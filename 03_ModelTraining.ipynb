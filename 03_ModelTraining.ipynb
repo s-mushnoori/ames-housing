{
  "nbformat": 4,
  "nbformat_minor": 0,
  "metadata": {
    "colab": {
      "name": "03_ModelTraining.ipynb",
      "provenance": [],
      "collapsed_sections": [],
      "mount_file_id": "1iNmvK9TsKIz3-0nFIf9Qljb07_Q09_Cc",
      "authorship_tag": "ABX9TyMrdcy/80vQf/3R2iF+5u5d"
    },
    "kernelspec": {
      "name": "python3",
      "display_name": "Python 3"
    },
    "language_info": {
      "name": "python"
    },
    "widgets": {
      "application/vnd.jupyter.widget-state+json": {
        "1ce47698f5a848c0988931173a2cf66f": {
          "model_module": "@jupyter-widgets/controls",
          "model_name": "IntProgressModel",
          "model_module_version": "1.5.0",
          "state": {
            "_view_name": "ProgressView",
            "style": "IPY_MODEL_7660a76ff50a4ad4a2eedbebfa885cc3",
            "_dom_classes": [],
            "description": "Processing: ",
            "_model_name": "IntProgressModel",
            "bar_style": "",
            "max": 3,
            "_view_module": "@jupyter-widgets/controls",
            "_model_module_version": "1.5.0",
            "value": 3,
            "_view_count": null,
            "_view_module_version": "1.5.0",
            "orientation": "horizontal",
            "min": 0,
            "description_tooltip": null,
            "_model_module": "@jupyter-widgets/controls",
            "layout": "IPY_MODEL_d88ee21e478a4f31800d87d1ae5f0263"
          }
        },
        "7660a76ff50a4ad4a2eedbebfa885cc3": {
          "model_module": "@jupyter-widgets/controls",
          "model_name": "ProgressStyleModel",
          "model_module_version": "1.5.0",
          "state": {
            "_view_name": "StyleView",
            "_model_name": "ProgressStyleModel",
            "description_width": "",
            "_view_module": "@jupyter-widgets/base",
            "_model_module_version": "1.5.0",
            "_view_count": null,
            "_view_module_version": "1.2.0",
            "bar_color": null,
            "_model_module": "@jupyter-widgets/controls"
          }
        },
        "d88ee21e478a4f31800d87d1ae5f0263": {
          "model_module": "@jupyter-widgets/base",
          "model_name": "LayoutModel",
          "model_module_version": "1.2.0",
          "state": {
            "_view_name": "LayoutView",
            "grid_template_rows": null,
            "right": null,
            "justify_content": null,
            "_view_module": "@jupyter-widgets/base",
            "overflow": null,
            "_model_module_version": "1.2.0",
            "_view_count": null,
            "flex_flow": null,
            "width": null,
            "min_width": null,
            "border": null,
            "align_items": null,
            "bottom": null,
            "_model_module": "@jupyter-widgets/base",
            "top": null,
            "grid_column": null,
            "overflow_y": null,
            "overflow_x": null,
            "grid_auto_flow": null,
            "grid_area": null,
            "grid_template_columns": null,
            "flex": null,
            "_model_name": "LayoutModel",
            "justify_items": null,
            "grid_row": null,
            "max_height": null,
            "align_content": null,
            "visibility": null,
            "align_self": null,
            "height": null,
            "min_height": null,
            "padding": null,
            "grid_auto_rows": null,
            "grid_gap": null,
            "max_width": null,
            "order": null,
            "_view_module_version": "1.2.0",
            "grid_template_areas": null,
            "object_position": null,
            "object_fit": null,
            "grid_auto_columns": null,
            "margin": null,
            "display": null,
            "left": null
          }
        },
        "a49273d5cb014c8d8e79109e2998f47c": {
          "model_module": "@jupyter-widgets/controls",
          "model_name": "TextModel",
          "model_module_version": "1.5.0",
          "state": {
            "_view_name": "TextView",
            "style": "IPY_MODEL_1529dca278fc4e8497b62445aaa02579",
            "_dom_classes": [],
            "description": "",
            "_model_name": "TextModel",
            "placeholder": "​",
            "_view_module": "@jupyter-widgets/controls",
            "_model_module_version": "1.5.0",
            "value": "Following data types have been inferred automatically, if they are correct press enter to continue or type 'quit' otherwise.",
            "_view_count": null,
            "disabled": false,
            "_view_module_version": "1.5.0",
            "continuous_update": true,
            "description_tooltip": null,
            "_model_module": "@jupyter-widgets/controls",
            "layout": "IPY_MODEL_e3886b1a139e4b2c8a097e0348507779"
          }
        },
        "1529dca278fc4e8497b62445aaa02579": {
          "model_module": "@jupyter-widgets/controls",
          "model_name": "DescriptionStyleModel",
          "model_module_version": "1.5.0",
          "state": {
            "_view_name": "StyleView",
            "_model_name": "DescriptionStyleModel",
            "description_width": "",
            "_view_module": "@jupyter-widgets/base",
            "_model_module_version": "1.5.0",
            "_view_count": null,
            "_view_module_version": "1.2.0",
            "_model_module": "@jupyter-widgets/controls"
          }
        },
        "e3886b1a139e4b2c8a097e0348507779": {
          "model_module": "@jupyter-widgets/base",
          "model_name": "LayoutModel",
          "model_module_version": "1.2.0",
          "state": {
            "_view_name": "LayoutView",
            "grid_template_rows": null,
            "right": null,
            "justify_content": null,
            "_view_module": "@jupyter-widgets/base",
            "overflow": null,
            "_model_module_version": "1.2.0",
            "_view_count": null,
            "flex_flow": null,
            "width": "100%",
            "min_width": null,
            "border": null,
            "align_items": null,
            "bottom": null,
            "_model_module": "@jupyter-widgets/base",
            "top": null,
            "grid_column": null,
            "overflow_y": null,
            "overflow_x": null,
            "grid_auto_flow": null,
            "grid_area": null,
            "grid_template_columns": null,
            "flex": null,
            "_model_name": "LayoutModel",
            "justify_items": null,
            "grid_row": null,
            "max_height": null,
            "align_content": null,
            "visibility": null,
            "align_self": null,
            "height": null,
            "min_height": null,
            "padding": null,
            "grid_auto_rows": null,
            "grid_gap": null,
            "max_width": null,
            "order": null,
            "_view_module_version": "1.2.0",
            "grid_template_areas": null,
            "object_position": null,
            "object_fit": null,
            "grid_auto_columns": null,
            "margin": null,
            "display": null,
            "left": null
          }
        }
      }
    }
  },
  "cells": [
    {
      "cell_type": "markdown",
      "metadata": {
        "id": "uVHd-Qecihxq"
      },
      "source": [
        "# Import packages"
      ]
    },
    {
      "cell_type": "code",
      "metadata": {
        "id": "I1Ctt7bKiVXu"
      },
      "source": [
        "import numpy as np\n",
        "import pandas as pd\n",
        "import matplotlib.pyplot as plt\n",
        "import seaborn as sns\n",
        "%matplotlib inline\n",
        "\n",
        "import scipy.stats # For finding skew in the dataset\n",
        "\n",
        "import warnings\n",
        "warnings.filterwarnings('ignore')"
      ],
      "execution_count": 1,
      "outputs": []
    },
    {
      "cell_type": "code",
      "metadata": {
        "id": "yWYkaptojJqM"
      },
      "source": [
        "# Additional package Pycaret for help with model selection\n",
        "# Commented out once results are taken into account\n",
        "\n",
        "!pip install -q pycaret[full]"
      ],
      "execution_count": 2,
      "outputs": []
    },
    {
      "cell_type": "markdown",
      "metadata": {
        "id": "Lp6ri8Iiis6c"
      },
      "source": [
        "# Read in Data"
      ]
    },
    {
      "cell_type": "code",
      "metadata": {
        "colab": {
          "base_uri": "https://localhost:8080/"
        },
        "id": "cJjyshs6ivjy",
        "outputId": "2ff0f511-e25c-4748-94eb-b61415ad56c5"
      },
      "source": [
        "from google.colab import drive\n",
        "drive.mount('/content/drive')\n",
        "\n",
        "# Unpickle engineered data\n",
        "\n",
        "df_train = pd.read_pickle('/content/drive/MyDrive/Colab Notebooks/ames-housing/Data/train_transformed.pkl')\n",
        "df_test = pd.read_pickle('/content/drive/MyDrive/Colab Notebooks/ames-housing/Data/test_transformed.pkl')\n",
        "log_target = pd.read_pickle('/content/drive/MyDrive/Colab Notebooks/ames-housing/Data/target_transformed.pkl')\n",
        "\n",
        "# Get test IDs\n",
        "\n",
        "test_ids = pd.read_pickle('/content/drive/MyDrive/Colab Notebooks/ames-housing/Data/testids.pkl')"
      ],
      "execution_count": 3,
      "outputs": [
        {
          "output_type": "stream",
          "name": "stdout",
          "text": [
            "Drive already mounted at /content/drive; to attempt to forcibly remount, call drive.mount(\"/content/drive\", force_remount=True).\n"
          ]
        }
      ]
    },
    {
      "cell_type": "code",
      "metadata": {
        "id": "rr4kspz6tOoc"
      },
      "source": [
        "# Scale data\n",
        "\n",
        "from sklearn.preprocessing import StandardScaler, RobustScaler\n",
        "\n",
        "scaler = RobustScaler()\n",
        "scaler.fit(df_train)\n",
        "df_train1 = pd.DataFrame(scaler.transform(df_train), index=df_train.index, columns=df_train.columns)\n",
        "df_test1 = pd.DataFrame(scaler.transform(df_test), index=df_test.index, columns=df_test.columns)"
      ],
      "execution_count": 4,
      "outputs": []
    },
    {
      "cell_type": "markdown",
      "metadata": {
        "id": "NM3QzCEqoiin"
      },
      "source": [
        "# Pycaret to identify top performing algorithms\n",
        "\n",
        "This code is commented out because it is time comsuming and verbose. \n",
        "However, Catboost Regression, Bayesian Ridge, Ridge Regression, and Light Gradient Boosting Machine were identified to be the top performing models. "
      ]
    },
    {
      "cell_type": "code",
      "metadata": {
        "id": "MfGocEYnlmmB"
      },
      "source": [
        "#from pycaret.regression import setup, compare_models, models"
      ],
      "execution_count": 5,
      "outputs": []
    },
    {
      "cell_type": "code",
      "metadata": {
        "id": "PxZHEuJ4jI2J",
        "colab": {
          "base_uri": "https://localhost:8080/",
          "height": 1000,
          "referenced_widgets": [
            "1ce47698f5a848c0988931173a2cf66f",
            "7660a76ff50a4ad4a2eedbebfa885cc3",
            "d88ee21e478a4f31800d87d1ae5f0263",
            "a49273d5cb014c8d8e79109e2998f47c",
            "1529dca278fc4e8497b62445aaa02579",
            "e3886b1a139e4b2c8a097e0348507779"
          ]
        },
        "outputId": "e0d80b66-dc01-4bf7-b8d5-c7c81a1fe6d9"
      },
      "source": [
        "#_ = setup(data=pd.concat([df_train1, log_target], axis=1), target='SalePrice')"
      ],
      "execution_count": 10,
      "outputs": [
        {
          "output_type": "display_data",
          "data": {
            "text/html": [
              "<div>\n",
              "<style scoped>\n",
              "    .dataframe tbody tr th:only-of-type {\n",
              "        vertical-align: middle;\n",
              "    }\n",
              "\n",
              "    .dataframe tbody tr th {\n",
              "        vertical-align: top;\n",
              "    }\n",
              "\n",
              "    .dataframe thead th {\n",
              "        text-align: right;\n",
              "    }\n",
              "</style>\n",
              "<table border=\"1\" class=\"dataframe\">\n",
              "  <thead>\n",
              "    <tr style=\"text-align: right;\">\n",
              "      <th></th>\n",
              "      <th>Description</th>\n",
              "      <th>Value</th>\n",
              "    </tr>\n",
              "  </thead>\n",
              "  <tbody>\n",
              "    <tr>\n",
              "      <th>0</th>\n",
              "      <td>session_id</td>\n",
              "      <td>5604</td>\n",
              "    </tr>\n",
              "    <tr>\n",
              "      <th>1</th>\n",
              "      <td>Target</td>\n",
              "      <td>SalePrice</td>\n",
              "    </tr>\n",
              "    <tr>\n",
              "      <th>2</th>\n",
              "      <td>Original Data</td>\n",
              "      <td>(1460, 263)</td>\n",
              "    </tr>\n",
              "    <tr>\n",
              "      <th>3</th>\n",
              "      <td>Missing Values</td>\n",
              "      <td>False</td>\n",
              "    </tr>\n",
              "    <tr>\n",
              "      <th>4</th>\n",
              "      <td>Numeric Features</td>\n",
              "      <td>31</td>\n",
              "    </tr>\n",
              "    <tr>\n",
              "      <th>5</th>\n",
              "      <td>Categorical Features</td>\n",
              "      <td>231</td>\n",
              "    </tr>\n",
              "    <tr>\n",
              "      <th>6</th>\n",
              "      <td>Ordinal Features</td>\n",
              "      <td>False</td>\n",
              "    </tr>\n",
              "    <tr>\n",
              "      <th>7</th>\n",
              "      <td>High Cardinality Features</td>\n",
              "      <td>False</td>\n",
              "    </tr>\n",
              "    <tr>\n",
              "      <th>8</th>\n",
              "      <td>High Cardinality Method</td>\n",
              "      <td>None</td>\n",
              "    </tr>\n",
              "    <tr>\n",
              "      <th>9</th>\n",
              "      <td>Transformed Train Set</td>\n",
              "      <td>(1021, 249)</td>\n",
              "    </tr>\n",
              "    <tr>\n",
              "      <th>10</th>\n",
              "      <td>Transformed Test Set</td>\n",
              "      <td>(439, 249)</td>\n",
              "    </tr>\n",
              "    <tr>\n",
              "      <th>11</th>\n",
              "      <td>Shuffle Train-Test</td>\n",
              "      <td>True</td>\n",
              "    </tr>\n",
              "    <tr>\n",
              "      <th>12</th>\n",
              "      <td>Stratify Train-Test</td>\n",
              "      <td>False</td>\n",
              "    </tr>\n",
              "    <tr>\n",
              "      <th>13</th>\n",
              "      <td>Fold Generator</td>\n",
              "      <td>KFold</td>\n",
              "    </tr>\n",
              "    <tr>\n",
              "      <th>14</th>\n",
              "      <td>Fold Number</td>\n",
              "      <td>10</td>\n",
              "    </tr>\n",
              "    <tr>\n",
              "      <th>15</th>\n",
              "      <td>CPU Jobs</td>\n",
              "      <td>-1</td>\n",
              "    </tr>\n",
              "    <tr>\n",
              "      <th>16</th>\n",
              "      <td>Use GPU</td>\n",
              "      <td>False</td>\n",
              "    </tr>\n",
              "    <tr>\n",
              "      <th>17</th>\n",
              "      <td>Log Experiment</td>\n",
              "      <td>False</td>\n",
              "    </tr>\n",
              "    <tr>\n",
              "      <th>18</th>\n",
              "      <td>Experiment Name</td>\n",
              "      <td>reg-default-name</td>\n",
              "    </tr>\n",
              "    <tr>\n",
              "      <th>19</th>\n",
              "      <td>USI</td>\n",
              "      <td>6122</td>\n",
              "    </tr>\n",
              "    <tr>\n",
              "      <th>20</th>\n",
              "      <td>Imputation Type</td>\n",
              "      <td>simple</td>\n",
              "    </tr>\n",
              "    <tr>\n",
              "      <th>21</th>\n",
              "      <td>Iterative Imputation Iteration</td>\n",
              "      <td>None</td>\n",
              "    </tr>\n",
              "    <tr>\n",
              "      <th>22</th>\n",
              "      <td>Numeric Imputer</td>\n",
              "      <td>mean</td>\n",
              "    </tr>\n",
              "    <tr>\n",
              "      <th>23</th>\n",
              "      <td>Iterative Imputation Numeric Model</td>\n",
              "      <td>None</td>\n",
              "    </tr>\n",
              "    <tr>\n",
              "      <th>24</th>\n",
              "      <td>Categorical Imputer</td>\n",
              "      <td>constant</td>\n",
              "    </tr>\n",
              "    <tr>\n",
              "      <th>25</th>\n",
              "      <td>Iterative Imputation Categorical Model</td>\n",
              "      <td>None</td>\n",
              "    </tr>\n",
              "    <tr>\n",
              "      <th>26</th>\n",
              "      <td>Unknown Categoricals Handling</td>\n",
              "      <td>least_frequent</td>\n",
              "    </tr>\n",
              "    <tr>\n",
              "      <th>27</th>\n",
              "      <td>Normalize</td>\n",
              "      <td>False</td>\n",
              "    </tr>\n",
              "    <tr>\n",
              "      <th>28</th>\n",
              "      <td>Normalize Method</td>\n",
              "      <td>None</td>\n",
              "    </tr>\n",
              "    <tr>\n",
              "      <th>29</th>\n",
              "      <td>Transformation</td>\n",
              "      <td>False</td>\n",
              "    </tr>\n",
              "    <tr>\n",
              "      <th>30</th>\n",
              "      <td>Transformation Method</td>\n",
              "      <td>None</td>\n",
              "    </tr>\n",
              "    <tr>\n",
              "      <th>31</th>\n",
              "      <td>PCA</td>\n",
              "      <td>False</td>\n",
              "    </tr>\n",
              "    <tr>\n",
              "      <th>32</th>\n",
              "      <td>PCA Method</td>\n",
              "      <td>None</td>\n",
              "    </tr>\n",
              "    <tr>\n",
              "      <th>33</th>\n",
              "      <td>PCA Components</td>\n",
              "      <td>None</td>\n",
              "    </tr>\n",
              "    <tr>\n",
              "      <th>34</th>\n",
              "      <td>Ignore Low Variance</td>\n",
              "      <td>False</td>\n",
              "    </tr>\n",
              "    <tr>\n",
              "      <th>35</th>\n",
              "      <td>Combine Rare Levels</td>\n",
              "      <td>False</td>\n",
              "    </tr>\n",
              "    <tr>\n",
              "      <th>36</th>\n",
              "      <td>Rare Level Threshold</td>\n",
              "      <td>None</td>\n",
              "    </tr>\n",
              "    <tr>\n",
              "      <th>37</th>\n",
              "      <td>Numeric Binning</td>\n",
              "      <td>False</td>\n",
              "    </tr>\n",
              "    <tr>\n",
              "      <th>38</th>\n",
              "      <td>Remove Outliers</td>\n",
              "      <td>False</td>\n",
              "    </tr>\n",
              "    <tr>\n",
              "      <th>39</th>\n",
              "      <td>Outliers Threshold</td>\n",
              "      <td>None</td>\n",
              "    </tr>\n",
              "    <tr>\n",
              "      <th>40</th>\n",
              "      <td>Remove Multicollinearity</td>\n",
              "      <td>False</td>\n",
              "    </tr>\n",
              "    <tr>\n",
              "      <th>41</th>\n",
              "      <td>Multicollinearity Threshold</td>\n",
              "      <td>None</td>\n",
              "    </tr>\n",
              "    <tr>\n",
              "      <th>42</th>\n",
              "      <td>Remove Perfect Collinearity</td>\n",
              "      <td>True</td>\n",
              "    </tr>\n",
              "    <tr>\n",
              "      <th>43</th>\n",
              "      <td>Clustering</td>\n",
              "      <td>False</td>\n",
              "    </tr>\n",
              "    <tr>\n",
              "      <th>44</th>\n",
              "      <td>Clustering Iteration</td>\n",
              "      <td>None</td>\n",
              "    </tr>\n",
              "    <tr>\n",
              "      <th>45</th>\n",
              "      <td>Polynomial Features</td>\n",
              "      <td>False</td>\n",
              "    </tr>\n",
              "    <tr>\n",
              "      <th>46</th>\n",
              "      <td>Polynomial Degree</td>\n",
              "      <td>None</td>\n",
              "    </tr>\n",
              "    <tr>\n",
              "      <th>47</th>\n",
              "      <td>Trignometry Features</td>\n",
              "      <td>False</td>\n",
              "    </tr>\n",
              "    <tr>\n",
              "      <th>48</th>\n",
              "      <td>Polynomial Threshold</td>\n",
              "      <td>None</td>\n",
              "    </tr>\n",
              "    <tr>\n",
              "      <th>49</th>\n",
              "      <td>Group Features</td>\n",
              "      <td>False</td>\n",
              "    </tr>\n",
              "    <tr>\n",
              "      <th>50</th>\n",
              "      <td>Feature Selection</td>\n",
              "      <td>False</td>\n",
              "    </tr>\n",
              "    <tr>\n",
              "      <th>51</th>\n",
              "      <td>Feature Selection Method</td>\n",
              "      <td>classic</td>\n",
              "    </tr>\n",
              "    <tr>\n",
              "      <th>52</th>\n",
              "      <td>Features Selection Threshold</td>\n",
              "      <td>None</td>\n",
              "    </tr>\n",
              "    <tr>\n",
              "      <th>53</th>\n",
              "      <td>Feature Interaction</td>\n",
              "      <td>False</td>\n",
              "    </tr>\n",
              "    <tr>\n",
              "      <th>54</th>\n",
              "      <td>Feature Ratio</td>\n",
              "      <td>False</td>\n",
              "    </tr>\n",
              "    <tr>\n",
              "      <th>55</th>\n",
              "      <td>Interaction Threshold</td>\n",
              "      <td>None</td>\n",
              "    </tr>\n",
              "    <tr>\n",
              "      <th>56</th>\n",
              "      <td>Transform Target</td>\n",
              "      <td>False</td>\n",
              "    </tr>\n",
              "    <tr>\n",
              "      <th>57</th>\n",
              "      <td>Transform Target Method</td>\n",
              "      <td>box-cox</td>\n",
              "    </tr>\n",
              "  </tbody>\n",
              "</table>\n",
              "</div>"
            ],
            "text/plain": [
              "                               Description             Value\n",
              "0                               session_id              5604\n",
              "1                                   Target         SalePrice\n",
              "2                            Original Data       (1460, 263)\n",
              "3                           Missing Values             False\n",
              "4                         Numeric Features                31\n",
              "5                     Categorical Features               231\n",
              "6                         Ordinal Features             False\n",
              "7                High Cardinality Features             False\n",
              "8                  High Cardinality Method              None\n",
              "9                    Transformed Train Set       (1021, 249)\n",
              "10                    Transformed Test Set        (439, 249)\n",
              "11                      Shuffle Train-Test              True\n",
              "12                     Stratify Train-Test             False\n",
              "13                          Fold Generator             KFold\n",
              "14                             Fold Number                10\n",
              "15                                CPU Jobs                -1\n",
              "16                                 Use GPU             False\n",
              "17                          Log Experiment             False\n",
              "18                         Experiment Name  reg-default-name\n",
              "19                                     USI              6122\n",
              "20                         Imputation Type            simple\n",
              "21          Iterative Imputation Iteration              None\n",
              "22                         Numeric Imputer              mean\n",
              "23      Iterative Imputation Numeric Model              None\n",
              "24                     Categorical Imputer          constant\n",
              "25  Iterative Imputation Categorical Model              None\n",
              "26           Unknown Categoricals Handling    least_frequent\n",
              "27                               Normalize             False\n",
              "28                        Normalize Method              None\n",
              "29                          Transformation             False\n",
              "30                   Transformation Method              None\n",
              "31                                     PCA             False\n",
              "32                              PCA Method              None\n",
              "33                          PCA Components              None\n",
              "34                     Ignore Low Variance             False\n",
              "35                     Combine Rare Levels             False\n",
              "36                    Rare Level Threshold              None\n",
              "37                         Numeric Binning             False\n",
              "38                         Remove Outliers             False\n",
              "39                      Outliers Threshold              None\n",
              "40                Remove Multicollinearity             False\n",
              "41             Multicollinearity Threshold              None\n",
              "42             Remove Perfect Collinearity              True\n",
              "43                              Clustering             False\n",
              "44                    Clustering Iteration              None\n",
              "45                     Polynomial Features             False\n",
              "46                       Polynomial Degree              None\n",
              "47                    Trignometry Features             False\n",
              "48                    Polynomial Threshold              None\n",
              "49                          Group Features             False\n",
              "50                       Feature Selection             False\n",
              "51                Feature Selection Method           classic\n",
              "52            Features Selection Threshold              None\n",
              "53                     Feature Interaction             False\n",
              "54                           Feature Ratio             False\n",
              "55                   Interaction Threshold              None\n",
              "56                        Transform Target             False\n",
              "57                 Transform Target Method           box-cox"
            ]
          },
          "metadata": {}
        }
      ]
    },
    {
      "cell_type": "code",
      "metadata": {
        "colab": {
          "base_uri": "https://localhost:8080/",
          "height": 623
        },
        "id": "BWaYhr1qoYDt",
        "outputId": "ef335c1c-8115-44dc-a6dc-10b1fe2f87a8"
      },
      "source": [
        "#compare_models()"
      ],
      "execution_count": 11,
      "outputs": [
        {
          "output_type": "display_data",
          "data": {
            "text/html": [
              "<div>\n",
              "<style scoped>\n",
              "    .dataframe tbody tr th:only-of-type {\n",
              "        vertical-align: middle;\n",
              "    }\n",
              "\n",
              "    .dataframe tbody tr th {\n",
              "        vertical-align: top;\n",
              "    }\n",
              "\n",
              "    .dataframe thead th {\n",
              "        text-align: right;\n",
              "    }\n",
              "</style>\n",
              "<table border=\"1\" class=\"dataframe\">\n",
              "  <thead>\n",
              "    <tr style=\"text-align: right;\">\n",
              "      <th></th>\n",
              "      <th>Model</th>\n",
              "      <th>MAE</th>\n",
              "      <th>MSE</th>\n",
              "      <th>RMSE</th>\n",
              "      <th>R2</th>\n",
              "      <th>RMSLE</th>\n",
              "      <th>MAPE</th>\n",
              "      <th>TT (Sec)</th>\n",
              "    </tr>\n",
              "  </thead>\n",
              "  <tbody>\n",
              "    <tr>\n",
              "      <th>catboost</th>\n",
              "      <td>CatBoost Regressor</td>\n",
              "      <td>0.0836</td>\n",
              "      <td>0.0163</td>\n",
              "      <td>0.1252</td>\n",
              "      <td>0.9015</td>\n",
              "      <td>0.0097</td>\n",
              "      <td>0.0070</td>\n",
              "      <td>8.527</td>\n",
              "    </tr>\n",
              "    <tr>\n",
              "      <th>gbr</th>\n",
              "      <td>Gradient Boosting Regressor</td>\n",
              "      <td>0.0909</td>\n",
              "      <td>0.0183</td>\n",
              "      <td>0.1333</td>\n",
              "      <td>0.8886</td>\n",
              "      <td>0.0103</td>\n",
              "      <td>0.0076</td>\n",
              "      <td>0.383</td>\n",
              "    </tr>\n",
              "    <tr>\n",
              "      <th>br</th>\n",
              "      <td>Bayesian Ridge</td>\n",
              "      <td>0.0881</td>\n",
              "      <td>0.0190</td>\n",
              "      <td>0.1339</td>\n",
              "      <td>0.8824</td>\n",
              "      <td>0.0103</td>\n",
              "      <td>0.0074</td>\n",
              "      <td>0.053</td>\n",
              "    </tr>\n",
              "    <tr>\n",
              "      <th>lightgbm</th>\n",
              "      <td>Light Gradient Boosting Machine</td>\n",
              "      <td>0.0951</td>\n",
              "      <td>0.0193</td>\n",
              "      <td>0.1376</td>\n",
              "      <td>0.8810</td>\n",
              "      <td>0.0106</td>\n",
              "      <td>0.0079</td>\n",
              "      <td>0.147</td>\n",
              "    </tr>\n",
              "    <tr>\n",
              "      <th>xgboost</th>\n",
              "      <td>Extreme Gradient Boosting</td>\n",
              "      <td>0.0984</td>\n",
              "      <td>0.0210</td>\n",
              "      <td>0.1432</td>\n",
              "      <td>0.8715</td>\n",
              "      <td>0.0110</td>\n",
              "      <td>0.0082</td>\n",
              "      <td>9.355</td>\n",
              "    </tr>\n",
              "    <tr>\n",
              "      <th>rf</th>\n",
              "      <td>Random Forest Regressor</td>\n",
              "      <td>0.0986</td>\n",
              "      <td>0.0218</td>\n",
              "      <td>0.1459</td>\n",
              "      <td>0.8663</td>\n",
              "      <td>0.0113</td>\n",
              "      <td>0.0082</td>\n",
              "      <td>1.309</td>\n",
              "    </tr>\n",
              "    <tr>\n",
              "      <th>ridge</th>\n",
              "      <td>Ridge Regression</td>\n",
              "      <td>0.0929</td>\n",
              "      <td>0.0216</td>\n",
              "      <td>0.1424</td>\n",
              "      <td>0.8660</td>\n",
              "      <td>0.0109</td>\n",
              "      <td>0.0078</td>\n",
              "      <td>0.018</td>\n",
              "    </tr>\n",
              "    <tr>\n",
              "      <th>et</th>\n",
              "      <td>Extra Trees Regressor</td>\n",
              "      <td>0.1001</td>\n",
              "      <td>0.0230</td>\n",
              "      <td>0.1497</td>\n",
              "      <td>0.8594</td>\n",
              "      <td>0.0116</td>\n",
              "      <td>0.0084</td>\n",
              "      <td>1.400</td>\n",
              "    </tr>\n",
              "    <tr>\n",
              "      <th>huber</th>\n",
              "      <td>Huber Regressor</td>\n",
              "      <td>0.1006</td>\n",
              "      <td>0.0237</td>\n",
              "      <td>0.1504</td>\n",
              "      <td>0.8563</td>\n",
              "      <td>0.0117</td>\n",
              "      <td>0.0084</td>\n",
              "      <td>0.126</td>\n",
              "    </tr>\n",
              "    <tr>\n",
              "      <th>omp</th>\n",
              "      <td>Orthogonal Matching Pursuit</td>\n",
              "      <td>0.0971</td>\n",
              "      <td>0.0246</td>\n",
              "      <td>0.1493</td>\n",
              "      <td>0.8517</td>\n",
              "      <td>0.0115</td>\n",
              "      <td>0.0081</td>\n",
              "      <td>0.017</td>\n",
              "    </tr>\n",
              "    <tr>\n",
              "      <th>knn</th>\n",
              "      <td>K Neighbors Regressor</td>\n",
              "      <td>0.1224</td>\n",
              "      <td>0.0317</td>\n",
              "      <td>0.1762</td>\n",
              "      <td>0.8044</td>\n",
              "      <td>0.0136</td>\n",
              "      <td>0.0102</td>\n",
              "      <td>0.072</td>\n",
              "    </tr>\n",
              "    <tr>\n",
              "      <th>ada</th>\n",
              "      <td>AdaBoost Regressor</td>\n",
              "      <td>0.1367</td>\n",
              "      <td>0.0329</td>\n",
              "      <td>0.1805</td>\n",
              "      <td>0.7928</td>\n",
              "      <td>0.0139</td>\n",
              "      <td>0.0114</td>\n",
              "      <td>0.263</td>\n",
              "    </tr>\n",
              "    <tr>\n",
              "      <th>par</th>\n",
              "      <td>Passive Aggressive Regressor</td>\n",
              "      <td>0.1332</td>\n",
              "      <td>0.0342</td>\n",
              "      <td>0.1816</td>\n",
              "      <td>0.7840</td>\n",
              "      <td>0.0141</td>\n",
              "      <td>0.0112</td>\n",
              "      <td>0.025</td>\n",
              "    </tr>\n",
              "    <tr>\n",
              "      <th>dt</th>\n",
              "      <td>Decision Tree Regressor</td>\n",
              "      <td>0.1486</td>\n",
              "      <td>0.0478</td>\n",
              "      <td>0.2165</td>\n",
              "      <td>0.6989</td>\n",
              "      <td>0.0167</td>\n",
              "      <td>0.0124</td>\n",
              "      <td>0.032</td>\n",
              "    </tr>\n",
              "    <tr>\n",
              "      <th>lasso</th>\n",
              "      <td>Lasso Regression</td>\n",
              "      <td>0.3130</td>\n",
              "      <td>0.1629</td>\n",
              "      <td>0.4014</td>\n",
              "      <td>-0.0097</td>\n",
              "      <td>0.0308</td>\n",
              "      <td>0.0260</td>\n",
              "      <td>0.017</td>\n",
              "    </tr>\n",
              "    <tr>\n",
              "      <th>en</th>\n",
              "      <td>Elastic Net</td>\n",
              "      <td>0.3130</td>\n",
              "      <td>0.1629</td>\n",
              "      <td>0.4014</td>\n",
              "      <td>-0.0097</td>\n",
              "      <td>0.0308</td>\n",
              "      <td>0.0260</td>\n",
              "      <td>0.016</td>\n",
              "    </tr>\n",
              "    <tr>\n",
              "      <th>llar</th>\n",
              "      <td>Lasso Least Angle Regression</td>\n",
              "      <td>0.3130</td>\n",
              "      <td>0.1629</td>\n",
              "      <td>0.4014</td>\n",
              "      <td>-0.0097</td>\n",
              "      <td>0.0308</td>\n",
              "      <td>0.0260</td>\n",
              "      <td>0.233</td>\n",
              "    </tr>\n",
              "    <tr>\n",
              "      <th>lr</th>\n",
              "      <td>Linear Regression</td>\n",
              "      <td>3.8513</td>\n",
              "      <td>1818.2567</td>\n",
              "      <td>28.3951</td>\n",
              "      <td>-10002.6997</td>\n",
              "      <td>0.2623</td>\n",
              "      <td>0.3206</td>\n",
              "      <td>0.025</td>\n",
              "    </tr>\n",
              "  </tbody>\n",
              "</table>\n",
              "</div>"
            ],
            "text/plain": [
              "                                    Model     MAE        MSE     RMSE  \\\n",
              "catboost               CatBoost Regressor  0.0836     0.0163   0.1252   \n",
              "gbr           Gradient Boosting Regressor  0.0909     0.0183   0.1333   \n",
              "br                         Bayesian Ridge  0.0881     0.0190   0.1339   \n",
              "lightgbm  Light Gradient Boosting Machine  0.0951     0.0193   0.1376   \n",
              "xgboost         Extreme Gradient Boosting  0.0984     0.0210   0.1432   \n",
              "rf                Random Forest Regressor  0.0986     0.0218   0.1459   \n",
              "ridge                    Ridge Regression  0.0929     0.0216   0.1424   \n",
              "et                  Extra Trees Regressor  0.1001     0.0230   0.1497   \n",
              "huber                     Huber Regressor  0.1006     0.0237   0.1504   \n",
              "omp           Orthogonal Matching Pursuit  0.0971     0.0246   0.1493   \n",
              "knn                 K Neighbors Regressor  0.1224     0.0317   0.1762   \n",
              "ada                    AdaBoost Regressor  0.1367     0.0329   0.1805   \n",
              "par          Passive Aggressive Regressor  0.1332     0.0342   0.1816   \n",
              "dt                Decision Tree Regressor  0.1486     0.0478   0.2165   \n",
              "lasso                    Lasso Regression  0.3130     0.1629   0.4014   \n",
              "en                            Elastic Net  0.3130     0.1629   0.4014   \n",
              "llar         Lasso Least Angle Regression  0.3130     0.1629   0.4014   \n",
              "lr                      Linear Regression  3.8513  1818.2567  28.3951   \n",
              "\n",
              "                  R2   RMSLE    MAPE  TT (Sec)  \n",
              "catboost      0.9015  0.0097  0.0070     8.527  \n",
              "gbr           0.8886  0.0103  0.0076     0.383  \n",
              "br            0.8824  0.0103  0.0074     0.053  \n",
              "lightgbm      0.8810  0.0106  0.0079     0.147  \n",
              "xgboost       0.8715  0.0110  0.0082     9.355  \n",
              "rf            0.8663  0.0113  0.0082     1.309  \n",
              "ridge         0.8660  0.0109  0.0078     0.018  \n",
              "et            0.8594  0.0116  0.0084     1.400  \n",
              "huber         0.8563  0.0117  0.0084     0.126  \n",
              "omp           0.8517  0.0115  0.0081     0.017  \n",
              "knn           0.8044  0.0136  0.0102     0.072  \n",
              "ada           0.7928  0.0139  0.0114     0.263  \n",
              "par           0.7840  0.0141  0.0112     0.025  \n",
              "dt            0.6989  0.0167  0.0124     0.032  \n",
              "lasso        -0.0097  0.0308  0.0260     0.017  \n",
              "en           -0.0097  0.0308  0.0260     0.016  \n",
              "llar         -0.0097  0.0308  0.0260     0.233  \n",
              "lr       -10002.6997  0.2623  0.3206     0.025  "
            ]
          },
          "metadata": {}
        },
        {
          "output_type": "execute_result",
          "data": {
            "text/plain": [
              "<catboost.core.CatBoostRegressor at 0x7f51ec7540d0>"
            ]
          },
          "metadata": {},
          "execution_count": 11
        }
      ]
    },
    {
      "cell_type": "markdown",
      "metadata": {
        "id": "PZ2HSHgv3NKW"
      },
      "source": [
        "# ModelContainer class"
      ]
    },
    {
      "cell_type": "code",
      "metadata": {
        "id": "ijrpUp_C3Mr9"
      },
      "source": [
        "class ModelContainer():\n",
        "  def __init__(self):\n",
        "    self.models = {}\n",
        "    self.mean_mse = {}\n",
        "    self.std_mse = {}\n",
        "    self.best_model = None\n",
        "    self.kfolds = 0\n",
        "\n",
        "  def add_model(self, model):\n",
        "    self.models[model[0]] = model[1]\n",
        "\n",
        "  def get_results(self, X, y, kfolds=5):\n",
        "    for model_name, model in self.models.items():\n",
        "      neg_mse = cross_val_score(model, X, y, cv=kfolds, scoring='neg_mean_squared_error')\n",
        "      self.mean_mse[model_name] = -1.0*np.mean(neg_mse)\n",
        "      self.std_mse[model_name] = np.std(neg_mse)\n",
        "      self.kfolds = kfolds\n",
        "      print(model_name, 'cross-validated.')\n",
        "\n",
        "  def select_best_model(self):\n",
        "    temp = min(self.mean_mse)\n",
        "    self.best_model = self.models[temp]\n",
        "\n",
        "  def best_model_fit(self, X_train, y_train):\n",
        "    self.best_model.fit(X_train, y_train)\n",
        "\n",
        "  def best_model_predict(self, X_test):\n",
        "    return np.exp(self.best_model.predict(X_test))\n",
        "\n",
        "  def ensemble_predict(self, X_train, y_train, X_test, weights): \n",
        "    if len(self.models) != len(weights):\n",
        "      print('Number of weights and models should be the same.')\n",
        "    else:\n",
        "      predictions = {}\n",
        "      final_predictions = np.array\n",
        "      for model_name, model in self.models.items():\n",
        "        model.fit(X_train, y_train)\n",
        "        predictions[model_name] = np.exp(model.predict(X_test))\n",
        "\n",
        "      return sum(weights[model_name] * predictions.get(model_name) for model_name in weights)\n",
        "      \n",
        "  def print_summary(self):\n",
        "    print('\\nModel Summaries:\\n')\n",
        "    for model_name, model in self.models.items():\n",
        "      print(model_name, ':')\n",
        "      print('Mean MSE over', self.kfolds.n_splits, 'folds:',  self.mean_mse[model_name], '+/-', self.std_mse[model_name],'\\n')\n"
      ],
      "execution_count": 13,
      "outputs": []
    },
    {
      "cell_type": "markdown",
      "metadata": {
        "id": "lZ0WAhfBw5Mp"
      },
      "source": [
        "# Model training"
      ]
    },
    {
      "cell_type": "code",
      "metadata": {
        "id": "KtOL-pPRw7Ag"
      },
      "source": [
        "!pip install -q catboost"
      ],
      "execution_count": 12,
      "outputs": []
    },
    {
      "cell_type": "code",
      "metadata": {
        "id": "7w8JY7way8Q3"
      },
      "source": [
        "# Import relevant packages\n",
        "\n",
        "from sklearn.model_selection import KFold, RepeatedKFold\n",
        "from sklearn.model_selection import cross_val_score\n",
        "from sklearn.metrics import mean_squared_error\n",
        "\n",
        "from sklearn.model_selection import GridSearchCV, RandomizedSearchCV\n",
        "\n",
        "from sklearn.linear_model import Ridge, BayesianRidge\n",
        "from mlxtend.regressor import StackingCVRegressor\n",
        "from sklearn.ensemble import GradientBoostingRegressor\n",
        "from lightgbm import LGBMRegressor\n",
        "from catboost import CatBoostRegressor"
      ],
      "execution_count": 14,
      "outputs": []
    },
    {
      "cell_type": "markdown",
      "metadata": {
        "id": "6tRWkVF_xmkd"
      },
      "source": [
        "### Baseline model\n",
        "\n",
        "Pycaret indicated that CatBoost Regressor is the best performing model. We will choose this as the baseline and seek to improve on it. "
      ]
    },
    {
      "cell_type": "code",
      "metadata": {
        "id": "9-frivCv0Rup"
      },
      "source": [
        "kf = KFold(n_splits=10)"
      ],
      "execution_count": 15,
      "outputs": []
    },
    {
      "cell_type": "code",
      "metadata": {
        "colab": {
          "base_uri": "https://localhost:8080/"
        },
        "id": "brv8QmgUojGC",
        "outputId": "cf19fabc-7ea9-4451-c2ce-2d4c84a606f0"
      },
      "source": [
        "baseline_model = ModelContainer()\n",
        "baseline_model.add_model(('Baseline CatBoost', CatBoostRegressor(verbose=0)))\n",
        "\n",
        "baseline_model.get_results(df_train1, log_target, kfolds=kf)\n",
        "\n",
        "baseline_model.print_summary()"
      ],
      "execution_count": 16,
      "outputs": [
        {
          "output_type": "stream",
          "name": "stdout",
          "text": [
            "Baseline CatBoost cross-validated.\n",
            "\n",
            "Model Summaries:\n",
            "\n",
            "Baseline CatBoost :\n",
            "Mean MSE over 10 folds: 0.014940510524764045 +/- 0.004725862229804103 \n",
            "\n"
          ]
        }
      ]
    },
    {
      "cell_type": "markdown",
      "metadata": {
        "id": "ezq9H1ze4DAv"
      },
      "source": [
        "### Hyperparamter tuning\n",
        "\n",
        "Tune hyperparameters for the 4 candidate algorithms using RandomizedSearchCV. \n",
        "\n",
        "Note that exact parameters will change with each run, but any one set of tuned hyperparameters will get very close to the optimal value so it won't be necessary to modify the hyperparameters everytime.\n",
        "\n",
        "First, define a function that will accept a model and a corresponding parameter grid and return the best combination using GridSearch or RandomizedSearch.\n",
        "\n",
        "Then we tune the hyperparameters for each of the algorithms as follows:\n",
        "\n",
        "* Define the parameter grid for the algorithm with a wide range of parameters\n",
        "\n",
        "* This first run will get us close to the optimal values. Then modify the parameter grid to narrow down the range and make it more granular\n",
        "\n",
        "* This should get us close enough to the actual optimal values"
      ]
    },
    {
      "cell_type": "code",
      "metadata": {
        "id": "8e677O-h5-Yy"
      },
      "source": [
        "def tune_hyperparameters(training_data, training_targets, model, param_grid):\n",
        "\n",
        "  random_search = RandomizedSearchCV(\n",
        "      model,\n",
        "      param_distributions=param_grid,\n",
        "      scoring='neg_mean_squared_error',\n",
        "      n_jobs=-1,\n",
        "      n_iter=20,\n",
        "      cv=10)\n",
        "\n",
        "  random_search.fit(np.array(training_data), np.array(training_targets))\n",
        "  print('Best hyperparameters for', model, 'are:')\n",
        "  print(random_search.best_params_)\n",
        "  print('\\n')"
      ],
      "execution_count": 17,
      "outputs": []
    },
    {
      "cell_type": "code",
      "metadata": {
        "id": "d_hjTufMBUhT"
      },
      "source": [
        "param_ridge = {'alpha':np.arange(1, 1000, 1)}\n",
        "\n",
        "param_br = {\n",
        "    'alpha_1':np.arange(1, 1e5, 10),\n",
        "    'alpha_2':np.arange(1, 1e5, 10),\n",
        "    'lambda_1':np.arange(1, 1e5, 10),\n",
        "    'lambda_2':np.arange(1, 1e5, 10)\n",
        "}\n",
        "\n",
        "param_lgbm = {\n",
        "    'num_leaves': np.arange(20, 2000, 5),\n",
        "    'min_data_in_leaf': np.arange(1,100,1),\n",
        "    #'max_depth': np.arange(1,12,1),\n",
        "    'n_estimators': np.arange(100,1000,10)\n",
        "}\n",
        "\n",
        "param_cbr = {\n",
        "    'depth': np.arange(1,100,10),\n",
        "    'learning_rate': [0.01, 0.05, 0.1, 0.5, 1],\n",
        "    'iterations': np.arange(100,1000,100)\n",
        "}\n"
      ],
      "execution_count": 18,
      "outputs": []
    },
    {
      "cell_type": "code",
      "metadata": {
        "colab": {
          "base_uri": "https://localhost:8080/"
        },
        "id": "4S9xZ59OBf50",
        "outputId": "f80be0b1-33e1-4831-d710-d3a27920d308"
      },
      "source": [
        "tune_hyperparameters(df_train1, log_target, Ridge(), param_ridge)\n",
        "\n",
        "tune_hyperparameters(df_train1, log_target, BayesianRidge(), param_br)\n",
        "\n",
        "# Commented out becasue the results are too verbose.\n",
        "# Tuning was done a few times and the following params were chosen:\n",
        "# num_leaves: 50, max_depth: 10\n",
        "# num_leaves: 6, n_estimators: 1000, max_depth: 3\n",
        "\n",
        "#tune_hyperparameters(df_train1, log_target, LGBMRegressor(), param_lgbm)\n",
        "\n",
        "\n",
        "# Commented out because it is extremely time consuming and verbose\n",
        "# These will be treated as the final hyperparameters:\n",
        "# 'iterations': 6000, 'depth': 5, 'learning_rate': 0.005\n",
        "\n",
        "#tune_hyperparameters(df_train1, log_target, CatBoostRegressor(), param_cbr)"
      ],
      "execution_count": 19,
      "outputs": [
        {
          "output_type": "stream",
          "name": "stdout",
          "text": [
            "Best hyperparameters for Ridge(alpha=1.0, copy_X=True, fit_intercept=True, max_iter=None,\n",
            "      normalize=False, random_state=None, solver='auto', tol=0.001) are:\n",
            "{'alpha': 41}\n",
            "\n",
            "\n",
            "Best hyperparameters for BayesianRidge(alpha_1=1e-06, alpha_2=1e-06, alpha_init=None,\n",
            "              compute_score=False, copy_X=True, fit_intercept=True,\n",
            "              lambda_1=1e-06, lambda_2=1e-06, lambda_init=None, n_iter=300,\n",
            "              normalize=False, tol=0.001, verbose=False) are:\n",
            "{'lambda_2': 41311.0, 'lambda_1': 95601.0, 'alpha_2': 68991.0, 'alpha_1': 9501.0}\n",
            "\n",
            "\n"
          ]
        }
      ]
    },
    {
      "cell_type": "markdown",
      "metadata": {
        "id": "sj-H3XMx5Byw"
      },
      "source": [
        "### Retrain tuned models"
      ]
    },
    {
      "cell_type": "code",
      "metadata": {
        "id": "XaaOHVJPzUXM"
      },
      "source": [
        "tuned_models = ModelContainer()\n",
        "\n",
        "tuned_models.add_model(('Ridge Regression', Ridge(alpha=41)))\n",
        "\n",
        "tuned_models.add_model(('Bayesian Ridge', BayesianRidge(alpha_1=9501, alpha_2=68991, lambda_1=95601, lambda_2=41311)))\n",
        "\n",
        "tuned_models.add_model(('LGBM', LGBMRegressor( num_leaves=6, n_estimators=1000, max_depth=3)))\n",
        "\n",
        "tuned_models.add_model(('CatBoost Regressor', CatBoostRegressor(iterations=6000, depth=5, learning_rate=0.005, verbose=0)))"
      ],
      "execution_count": 20,
      "outputs": []
    },
    {
      "cell_type": "code",
      "metadata": {
        "colab": {
          "base_uri": "https://localhost:8080/"
        },
        "id": "2WyNgN5PZRrz",
        "outputId": "6c5abb74-38ec-4836-ce3c-93eaab64766c"
      },
      "source": [
        "tuned_models.models"
      ],
      "execution_count": 21,
      "outputs": [
        {
          "output_type": "execute_result",
          "data": {
            "text/plain": [
              "{'Ridge Regression': Ridge(alpha=41, copy_X=True, fit_intercept=True, max_iter=None, normalize=False,\n",
              "       random_state=None, solver='auto', tol=0.001),\n",
              " 'Bayesian Ridge': BayesianRidge(alpha_1=9501, alpha_2=68991, alpha_init=None, compute_score=False,\n",
              "               copy_X=True, fit_intercept=True, lambda_1=95601, lambda_2=41311,\n",
              "               lambda_init=None, n_iter=300, normalize=False, tol=0.001,\n",
              "               verbose=False),\n",
              " 'LGBM': LGBMRegressor(boosting_type='gbdt', class_weight=None, colsample_bytree=1.0,\n",
              "               importance_type='split', learning_rate=0.1, max_depth=3,\n",
              "               min_child_samples=20, min_child_weight=0.001, min_split_gain=0.0,\n",
              "               n_estimators=1000, n_jobs=-1, num_leaves=6, objective=None,\n",
              "               random_state=None, reg_alpha=0.0, reg_lambda=0.0, silent=True,\n",
              "               subsample=1.0, subsample_for_bin=200000, subsample_freq=0),\n",
              " 'CatBoost Regressor': <catboost.core.CatBoostRegressor at 0x7f51eaafa190>}"
            ]
          },
          "metadata": {},
          "execution_count": 21
        }
      ]
    },
    {
      "cell_type": "code",
      "metadata": {
        "colab": {
          "base_uri": "https://localhost:8080/"
        },
        "id": "fY2stBk4JXfA",
        "outputId": "af10294a-4a5d-43c9-ea98-10ea41dc0afd"
      },
      "source": [
        "tuned_models.get_results(df_train1, log_target, kfolds=kf)\n",
        "\n",
        "tuned_models.select_best_model()\n",
        "tuned_models.best_model_fit(df_train1, log_target)"
      ],
      "execution_count": 22,
      "outputs": [
        {
          "output_type": "stream",
          "name": "stdout",
          "text": [
            "Ridge Regression cross-validated.\n",
            "Bayesian Ridge cross-validated.\n",
            "LGBM cross-validated.\n",
            "CatBoost Regressor cross-validated.\n"
          ]
        }
      ]
    },
    {
      "cell_type": "code",
      "metadata": {
        "colab": {
          "base_uri": "https://localhost:8080/"
        },
        "id": "l2LcrUGmU3Ai",
        "outputId": "a243d846-cb77-471a-d97f-d7bd35d35a3b"
      },
      "source": [
        "tuned_models.print_summary()"
      ],
      "execution_count": 23,
      "outputs": [
        {
          "output_type": "stream",
          "name": "stdout",
          "text": [
            "\n",
            "Model Summaries:\n",
            "\n",
            "Ridge Regression :\n",
            "Mean MSE over 10 folds: 0.016511744267705353 +/- 0.005963087899906582 \n",
            "\n",
            "Bayesian Ridge :\n",
            "Mean MSE over 10 folds: 0.01629539439204495 +/- 0.0059759537784069535 \n",
            "\n",
            "LGBM :\n",
            "Mean MSE over 10 folds: 0.015441371181154262 +/- 0.00378738547838513 \n",
            "\n",
            "CatBoost Regressor :\n",
            "Mean MSE over 10 folds: 0.014699055506051873 +/- 0.004862934851674393 \n",
            "\n"
          ]
        }
      ]
    },
    {
      "cell_type": "markdown",
      "metadata": {
        "id": "_EGn5uis7Iik"
      },
      "source": [
        "### Ensembling"
      ]
    },
    {
      "cell_type": "code",
      "metadata": {
        "id": "grSLCtsBmJdX"
      },
      "source": [
        "ensemble_weights = {\n",
        "    'CatBoost Regressor': 0.4,\n",
        "    'LGBM':               0.2,\n",
        "    'Bayesian Ridge':     0.15,\n",
        "    'Ridge Regression':   0.15,\n",
        "\n",
        "}\n",
        "\n",
        "ensemble_predictions = tuned_models.ensemble_predict(df_train1, log_target, df_test1, ensemble_weights)\n",
        "best_model_predictions = tuned_models.best_model_predict(df_test1)"
      ],
      "execution_count": 24,
      "outputs": []
    },
    {
      "cell_type": "markdown",
      "metadata": {
        "id": "0VBBnEZ97LzP"
      },
      "source": [
        "# Submissions"
      ]
    },
    {
      "cell_type": "code",
      "metadata": {
        "id": "f2R9Z0Cj1q_1"
      },
      "source": [
        "submission_bestmodel = pd.concat([test_ids, pd.Series(best_model_predictions, name='SalePrice')], axis=1)\n",
        "submission_ensemble = pd.concat([test_ids, pd.Series(ensemble_predictions, name='SalePrice')], axis=1)"
      ],
      "execution_count": 25,
      "outputs": []
    },
    {
      "cell_type": "code",
      "metadata": {
        "id": "BO4bHFWb2cwH"
      },
      "source": [
        "# Score with best individual model: Catboost Regressor\n",
        "# Score on leaderboard: 0.12574 (lower is better)"
      ],
      "execution_count": 26,
      "outputs": []
    },
    {
      "cell_type": "code",
      "metadata": {
        "id": "rgBZnUPE4brz"
      },
      "source": [
        "# Score on leaderboard: 0.12140 (lower is better)\n",
        "submission_ensemble.to_csv('/content/drive/MyDrive/Colab Notebooks/ames-housing/Data/Submission.csv', index=False)"
      ],
      "execution_count": 27,
      "outputs": []
    }
  ]
}